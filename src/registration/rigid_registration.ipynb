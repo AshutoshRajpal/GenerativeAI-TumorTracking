{
 "cells": [
  {
   "cell_type": "code",
   "execution_count": null,
   "id": "c2580e69-2162-4305-b4ef-bf4771240e8e",
   "metadata": {},
   "outputs": [],
   "source": [
    "import SimpleITK as sitk\n",
    "\n",
    "def rigid_registration(fixed_image, moving_image):\n",
    "    \"\"\"\n",
    "    Perform rigid registration using SimpleITK.\n",
    "    \n",
    "    Args:\n",
    "        fixed_image (SimpleITK.Image): The reference image.\n",
    "        moving_image (SimpleITK.Image): The image to be aligned.\n",
    "    \n",
    "    Returns:\n",
    "        SimpleITK.Image: Registered image.\n",
    "    \"\"\"\n",
    "    registration_method = sitk.ImageRegistrationMethod()\n",
    "\n",
    "    # Similarity metric settings\n",
    "    registration_method.SetMetricAsMattesMutualInformation(numberOfHistogramBins=50)\n",
    "    registration_method.SetMetricSamplingStrategy(registration_method.RANDOM)\n",
    "    registration_method.SetMetricSamplingPercentage(0.2)\n",
    "\n",
    "    # Rigid transform\n",
    "    registration_method.SetOptimizerAsGradientDescent(learningRate=1.0, numberOfIterations=100)\n",
    "    registration_method.SetInitialTransform(sitk.CenteredTransformInitializer(\n",
    "        fixed_image, moving_image, sitk.Euler3DTransform(), sitk.CenteredTransformInitializerFilter.GEOMETRY))\n",
    "    registration_method.SetInterpolator(sitk.sitkLinear)\n",
    "\n",
    "    final_transform = registration_method.Execute(fixed_image, moving_image)\n",
    "    registered_image = sitk.Resample(moving_image, fixed_image, final_transform, sitk.sitkLinear, 0.0, moving_image.GetPixelID())\n",
    "\n",
    "    return registered_image\n"
   ]
  }
 ],
 "metadata": {
  "kernelspec": {
   "display_name": "Python [conda env:base] *",
   "language": "python",
   "name": "conda-base-py"
  },
  "language_info": {
   "codemirror_mode": {
    "name": "ipython",
    "version": 3
   },
   "file_extension": ".py",
   "mimetype": "text/x-python",
   "name": "python",
   "nbconvert_exporter": "python",
   "pygments_lexer": "ipython3",
   "version": "3.12.2"
  }
 },
 "nbformat": 4,
 "nbformat_minor": 5
}
