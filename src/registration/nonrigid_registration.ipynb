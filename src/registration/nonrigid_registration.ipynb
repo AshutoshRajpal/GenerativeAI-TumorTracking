{
 "cells": [
  {
   "cell_type": "code",
   "execution_count": null,
   "id": "3ea298f6-c102-45b0-8f84-ac3fd1b3fe8b",
   "metadata": {},
   "outputs": [],
   "source": [
    "import SimpleITK as sitk\n",
    "\n",
    "def bspline_registration(fixed_image, moving_image, grid_physical_spacing=(20.0, 20.0, 20.0)):\n",
    "    \"\"\"\n",
    "    Perform non-rigid B-spline registration.\n",
    "    \n",
    "    Args:\n",
    "        fixed_image (SimpleITK.Image): Reference image.\n",
    "        moving_image (SimpleITK.Image): Image to deform.\n",
    "        grid_physical_spacing (tuple): Spacing for B-spline grid.\n",
    "\n",
    "    Returns:\n",
    "        SimpleITK.Image: Deformed/registered image.\n",
    "    \"\"\"\n",
    "    transform_domain_mesh_size = [int(fixed_image.GetSize()[i] * fixed_image.GetSpacing()[i] / grid_physical_spacing[i]) for i in range(3)]\n",
    "    transform = sitk.BSplineTransformInitializer(fixed_image, transform_domain_mesh_size)\n",
    "\n",
    "    registration_method = sitk.ImageRegistrationMethod()\n",
    "    registration_method.SetMetricAsMattesMutualInformation(50)\n",
    "    registration_method.SetOptimizerAsLBFGSB(gradientConvergenceTolerance=1e-5, numberOfIterations=100)\n",
    "    registration_method.SetInitialTransform(transform, inPlace=False)\n",
    "    registration_method.SetInterpolator(sitk.sitkLinear)\n",
    "\n",
    "    final_transform = registration_method.Execute(fixed_image, moving_image)\n",
    "    registered_image = sitk.Resample(moving_image, fixed_image, final_transform, sitk.sitkLinear, 0.0, moving_image.GetPixelID())\n",
    "\n",
    "    return registered_image\n"
   ]
  }
 ],
 "metadata": {
  "kernelspec": {
   "display_name": "Python [conda env:base] *",
   "language": "python",
   "name": "conda-base-py"
  },
  "language_info": {
   "codemirror_mode": {
    "name": "ipython",
    "version": 3
   },
   "file_extension": ".py",
   "mimetype": "text/x-python",
   "name": "python",
   "nbconvert_exporter": "python",
   "pygments_lexer": "ipython3",
   "version": "3.12.2"
  }
 },
 "nbformat": 4,
 "nbformat_minor": 5
}
