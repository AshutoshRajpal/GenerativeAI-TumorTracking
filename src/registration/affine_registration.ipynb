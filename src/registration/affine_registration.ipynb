{
 "cells": [
  {
   "cell_type": "code",
   "execution_count": null,
   "id": "93f63647-3a6b-4c48-b0a0-b2f5ce167b70",
   "metadata": {},
   "outputs": [],
   "source": [
    "import SimpleITK as sitk\n",
    "\n",
    "def affine_registration(fixed_image, moving_image):\n",
    "    \"\"\"\n",
    "    Perform affine registration using SimpleITK.\n",
    "    \n",
    "    Args:\n",
    "        fixed_image (SimpleITK.Image): The reference image.\n",
    "        moving_image (SimpleITK.Image): The image to be aligned.\n",
    "    \n",
    "    Returns:\n",
    "        SimpleITK.Image: Registered image.\n",
    "    \"\"\"\n",
    "    registration_method = sitk.ImageRegistrationMethod()\n",
    "\n",
    "    registration_method.SetMetricAsMattesMutualInformation(50)\n",
    "    registration_method.SetMetricSamplingStrategy(registration_method.RANDOM)\n",
    "    registration_method.SetMetricSamplingPercentage(0.1)\n",
    "\n",
    "    registration_method.SetOptimizerAsGradientDescent(learningRate=1.0, numberOfIterations=200)\n",
    "    registration_method.SetInitialTransform(sitk.CenteredTransformInitializer(\n",
    "        fixed_image, moving_image, sitk.AffineTransform(3), sitk.CenteredTransformInitializerFilter.GEOMETRY))\n",
    "\n",
    "    registration_method.SetInterpolator(sitk.sitkLinear)\n",
    "\n",
    "    final_transform = registration_method.Execute(fixed_image, moving_image)\n",
    "    registered_image = sitk.Resample(moving_image, fixed_image, final_transform, sitk.sitkLinear, 0.0, moving_image.GetPixelID())\n",
    "\n",
    "    return registered_image\n"
   ]
  }
 ],
 "metadata": {
  "kernelspec": {
   "display_name": "Python [conda env:base] *",
   "language": "python",
   "name": "conda-base-py"
  },
  "language_info": {
   "codemirror_mode": {
    "name": "ipython",
    "version": 3
   },
   "file_extension": ".py",
   "mimetype": "text/x-python",
   "name": "python",
   "nbconvert_exporter": "python",
   "pygments_lexer": "ipython3",
   "version": "3.12.2"
  }
 },
 "nbformat": 4,
 "nbformat_minor": 5
}
