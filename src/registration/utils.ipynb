{
 "cells": [
  {
   "cell_type": "code",
   "execution_count": null,
   "id": "f64d7be1-a431-4939-93cb-d976d7b79652",
   "metadata": {},
   "outputs": [],
   "source": [
    "import SimpleITK as sitk\n",
    "import numpy as np\n",
    "\n",
    "def load_image(filepath):\n",
    "    \"\"\"Load image using SimpleITK.\"\"\"\n",
    "    return sitk.ReadImage(filepath, sitk.sitkFloat32)\n",
    "\n",
    "def save_image(image, filepath):\n",
    "    \"\"\"Save image using SimpleITK.\"\"\"\n",
    "    sitk.WriteImage(image, filepath)\n",
    "\n",
    "def compute_mse(image1, image2):\n",
    "    \"\"\"Compute Mean Squared Error between two images.\"\"\"\n",
    "    arr1 = sitk.GetArrayFromImage(image1)\n",
    "    arr2 = sitk.GetArrayFromImage(image2)\n",
    "    return np.mean((arr1 - arr2) ** 2)\n",
    "\n",
    "def compute_ncc(image1, image2):\n",
    "    \"\"\"Compute Normalized Cross-Correlation between two images.\"\"\"\n",
    "    arr1 = sitk.GetArrayFromImage(image1)\n",
    "    arr2 = sitk.GetArrayFromImage(image2)\n",
    "    return np.corrcoef(arr1.flatten(), arr2.flatten())[0, 1]\n"
   ]
  }
 ],
 "metadata": {
  "kernelspec": {
   "display_name": "Python [conda env:base] *",
   "language": "python",
   "name": "conda-base-py"
  },
  "language_info": {
   "codemirror_mode": {
    "name": "ipython",
    "version": 3
   },
   "file_extension": ".py",
   "mimetype": "text/x-python",
   "name": "python",
   "nbconvert_exporter": "python",
   "pygments_lexer": "ipython3",
   "version": "3.12.2"
  }
 },
 "nbformat": 4,
 "nbformat_minor": 5
}
