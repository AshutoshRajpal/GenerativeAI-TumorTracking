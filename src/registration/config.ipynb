{
 "cells": [
  {
   "cell_type": "code",
   "execution_count": null,
   "id": "3db3a9aa-319f-4029-b3c4-44d104916c38",
   "metadata": {},
   "outputs": [],
   "source": [
    "# Default configuration for registration\n",
    "\n",
    "# General\n",
    "DEFAULT_METRIC = \"MattesMutualInformation\"\n",
    "SAMPLING_PERCENTAGE = 0.2\n",
    "DEFAULT_INTERPOLATOR = \"Linear\"\n",
    "\n",
    "# Optimization\n",
    "DEFAULT_ITERATIONS = 100\n",
    "LEARNING_RATE = 1.0\n",
    "\n",
    "# Non-rigid\n",
    "BSPLINE_SPACING = (20.0, 20.0, 20.0)\n"
   ]
  }
 ],
 "metadata": {
  "kernelspec": {
   "display_name": "Python [conda env:base] *",
   "language": "python",
   "name": "conda-base-py"
  },
  "language_info": {
   "codemirror_mode": {
    "name": "ipython",
    "version": 3
   },
   "file_extension": ".py",
   "mimetype": "text/x-python",
   "name": "python",
   "nbconvert_exporter": "python",
   "pygments_lexer": "ipython3",
   "version": "3.12.2"
  }
 },
 "nbformat": 4,
 "nbformat_minor": 5
}
