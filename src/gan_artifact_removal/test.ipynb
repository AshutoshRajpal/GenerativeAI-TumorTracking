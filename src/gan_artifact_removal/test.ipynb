{
 "cells": [
  {
   "cell_type": "code",
   "execution_count": null,
   "id": "ad49b91c-3c7b-44d0-aa18-bed2fcfe1998",
   "metadata": {},
   "outputs": [],
   "source": [
    "import torch\n",
    "from gan_artifact_removal.models import UNetGenerator\n",
    "from gan_artifact_removal.utils import load_image, save_image\n",
    "from gan_artifact_removal.config import MODEL_PATH\n",
    "\n",
    "def test(input_path, output_path):\n",
    "    device = torch.device(\"cuda\" if torch.cuda.is_available() else \"cpu\")\n",
    "    model = UNetGenerator().to(device)\n",
    "    model.load_state_dict(torch.load(MODEL_PATH, map_location=device))\n",
    "    model.eval()\n",
    "\n",
    "    image = load_image(input_path).to(device).unsqueeze(0)\n",
    "    with torch.no_grad():\n",
    "        output = model(image)\n",
    "    save_image(output.squeeze(), output_path)\n",
    "\n",
    "if __name__ == \"__main__\":\n",
    "    test(\"samples/artifact.png\", \"samples/cleaned.png\")\n"
   ]
  }
 ],
 "metadata": {
  "kernelspec": {
   "display_name": "Python [conda env:base] *",
   "language": "python",
   "name": "conda-base-py"
  },
  "language_info": {
   "codemirror_mode": {
    "name": "ipython",
    "version": 3
   },
   "file_extension": ".py",
   "mimetype": "text/x-python",
   "name": "python",
   "nbconvert_exporter": "python",
   "pygments_lexer": "ipython3",
   "version": "3.12.2"
  }
 },
 "nbformat": 4,
 "nbformat_minor": 5
}
