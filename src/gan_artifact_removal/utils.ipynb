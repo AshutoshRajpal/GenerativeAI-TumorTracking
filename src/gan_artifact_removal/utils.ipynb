{
 "cells": [
  {
   "cell_type": "code",
   "execution_count": null,
   "id": "b537589e-976f-4dd2-b8db-4129f1668964",
   "metadata": {},
   "outputs": [],
   "source": [
    "import torchvision.transforms as T\n",
    "from PIL import Image\n",
    "import torch\n",
    "\n",
    "def load_image(path):\n",
    "    transform = T.Compose([T.Grayscale(), T.Resize((256, 256)), T.ToTensor()])\n",
    "    return transform(Image.open(path))\n",
    "\n",
    "def save_image(tensor, path):\n",
    "    image = T.ToPILImage()(tensor.cpu().clamp(0, 1))\n",
    "    image.save(path)\n",
    "\n",
    "def save_sample(tensor, path):\n",
    "    save_image(tensor[0], path)\n"
   ]
  }
 ],
 "metadata": {
  "kernelspec": {
   "display_name": "Python [conda env:base] *",
   "language": "python",
   "name": "conda-base-py"
  },
  "language_info": {
   "codemirror_mode": {
    "name": "ipython",
    "version": 3
   },
   "file_extension": ".py",
   "mimetype": "text/x-python",
   "name": "python",
   "nbconvert_exporter": "python",
   "pygments_lexer": "ipython3",
   "version": "3.12.2"
  }
 },
 "nbformat": 4,
 "nbformat_minor": 5
}
