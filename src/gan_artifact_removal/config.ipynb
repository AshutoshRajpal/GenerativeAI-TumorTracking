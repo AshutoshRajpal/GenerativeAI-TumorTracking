{
 "cells": [
  {
   "cell_type": "code",
   "execution_count": null,
   "id": "766bd3fb-ed5a-4c93-ab25-d7f22c2be37d",
   "metadata": {},
   "outputs": [],
   "source": [
    "# Paths\n",
    "ARTIFACT_DIR = \"data/artifact/\"\n",
    "CLEAN_DIR = \"data/clean/\"\n",
    "MODEL_PATH = \"checkpoints/gen_latest.pth\"\n",
    "\n",
    "# Hyperparameters\n",
    "BATCH_SIZE = 8\n",
    "EPOCHS = 100\n",
    "LR = 2e-4\n",
    "LAMBDA_L1 = 100\n",
    "SAVE_INTERVAL = 5\n"
   ]
  }
 ],
 "metadata": {
  "kernelspec": {
   "display_name": "Python [conda env:base] *",
   "language": "python",
   "name": "conda-base-py"
  },
  "language_info": {
   "codemirror_mode": {
    "name": "ipython",
    "version": 3
   },
   "file_extension": ".py",
   "mimetype": "text/x-python",
   "name": "python",
   "nbconvert_exporter": "python",
   "pygments_lexer": "ipython3",
   "version": "3.12.2"
  }
 },
 "nbformat": 4,
 "nbformat_minor": 5
}
