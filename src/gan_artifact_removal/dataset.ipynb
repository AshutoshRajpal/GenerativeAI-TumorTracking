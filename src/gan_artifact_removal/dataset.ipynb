{
 "cells": [
  {
   "cell_type": "code",
   "execution_count": null,
   "id": "fb651c55-4dfa-470e-91e9-ad0dd4d1f8e6",
   "metadata": {},
   "outputs": [],
   "source": [
    "from torch.utils.data import Dataset\n",
    "import torchvision.transforms as T\n",
    "from PIL import Image\n",
    "import os\n",
    "\n",
    "class ArtifactDataset(Dataset):\n",
    "    def __init__(self, artifact_dir, clean_dir, transform=None):\n",
    "        self.artifact_dir = artifact_dir\n",
    "        self.clean_dir = clean_dir\n",
    "        self.image_names = os.listdir(artifact_dir)\n",
    "        self.transform = transform or T.Compose([\n",
    "            T.Grayscale(),\n",
    "            T.Resize((256, 256)),\n",
    "            T.ToTensor(),\n",
    "        ])\n",
    "\n",
    "    def __len__(self):\n",
    "        return len(self.image_names)\n",
    "\n",
    "    def __getitem__(self, idx):\n",
    "        artifact_path = os.path.join(self.artifact_dir, self.image_names[idx])\n",
    "        clean_path = os.path.join(self.clean_dir, self.image_names[idx])\n",
    "        x = self.transform(Image.open(artifact_path))\n",
    "        y = self.transform(Image.open(clean_path))\n",
    "        return x, y\n"
   ]
  }
 ],
 "metadata": {
  "kernelspec": {
   "display_name": "Python [conda env:base] *",
   "language": "python",
   "name": "conda-base-py"
  },
  "language_info": {
   "codemirror_mode": {
    "name": "ipython",
    "version": 3
   },
   "file_extension": ".py",
   "mimetype": "text/x-python",
   "name": "python",
   "nbconvert_exporter": "python",
   "pygments_lexer": "ipython3",
   "version": "3.12.2"
  }
 },
 "nbformat": 4,
 "nbformat_minor": 5
}
