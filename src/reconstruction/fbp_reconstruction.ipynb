{
 "cells": [
  {
   "cell_type": "code",
   "execution_count": null,
   "id": "577e2a10-f1d1-48f5-a756-e552dd9bb069",
   "metadata": {},
   "outputs": [],
   "source": [
    "import numpy as np\n",
    "import scipy.fftpack as fft\n",
    "import matplotlib.pyplot as plt\n",
    "\n",
    "def fbp_reconstruction(projections, filter_type=\"ram-lak\", interpolation=\"linear\"):\n",
    "    \"\"\"\n",
    "    Perform Filtered Back Projection (FBP) reconstruction on a set of projections.\n",
    "    \n",
    "    Args:\n",
    "        projections (ndarray): 2D array of sinogram data (projection data).\n",
    "        filter_type (str): Type of filter to apply in frequency domain (default: \"ram-lak\").\n",
    "        interpolation (str): Method of interpolation during backprojection (default: \"linear\").\n",
    "    \n",
    "    Returns:\n",
    "        ndarray: Reconstructed image.\n",
    "    \"\"\"\n",
    "    # Apply Fourier transform to the projections (sinogram)\n",
    "    projections_freq = fft.fftshift(fft.fft(projections, axis=0), axes=0)\n",
    "    \n",
    "    # Filter in the frequency domain\n",
    "    if filter_type == \"ram-lak\":\n",
    "        filter_kernel = np.abs(np.fft.fftfreq(projections.shape[0]))  # Example of Ram-Lak filter\n",
    "    else:\n",
    "        raise ValueError(\"Unknown filter type\")\n",
    "\n",
    "    filtered_projections = projections_freq * filter_kernel[:, np.newaxis]\n",
    "    \n",
    "    # Apply inverse FFT to obtain the filtered sinogram\n",
    "    filtered_projections = np.fft.ifft(fft.ifftshift(filtered_projections, axes=0), axis=0)\n",
    "    \n",
    "    # Backprojection to reconstruct the image\n",
    "    reconstructed_image = np.zeros_like(projections)\n",
    "    for i in range(projections.shape[1]):\n",
    "        reconstructed_image += np.interp(np.linspace(0, 1, reconstructed_image.shape[0]), np.linspace(0, 1, projections.shape[0]), filtered_projections[:, i], left=0, right=0)\n",
    "    \n",
    "    return np.abs(reconstructed_image)\n",
    "\n",
    "if __name__ == \"__main__\":\n",
    "    # Example usage with random projections\n",
    "    projections = np.random.rand(180, 256)  # Example sinogram\n",
    "    reconstructed_image = fbp_reconstruction(projections)\n",
    "    \n",
    "    # Display the reconstructed image\n",
    "    plt.imshow(reconstructed_image, cmap='gray')\n",
    "    plt.title(\"Reconstructed Image (FBP)\")\n",
    "    plt.show()\n"
   ]
  }
 ],
 "metadata": {
  "kernelspec": {
   "display_name": "Python [conda env:base] *",
   "language": "python",
   "name": "conda-base-py"
  },
  "language_info": {
   "codemirror_mode": {
    "name": "ipython",
    "version": 3
   },
   "file_extension": ".py",
   "mimetype": "text/x-python",
   "name": "python",
   "nbconvert_exporter": "python",
   "pygments_lexer": "ipython3",
   "version": "3.12.2"
  }
 },
 "nbformat": 4,
 "nbformat_minor": 5
}
