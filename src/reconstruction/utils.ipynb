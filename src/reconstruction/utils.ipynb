{
 "cells": [
  {
   "cell_type": "code",
   "execution_count": null,
   "id": "4f4d79ae-b587-434b-b76f-82d66c3bbcf1",
   "metadata": {},
   "outputs": [],
   "source": [
    "import numpy as np\n",
    "import matplotlib.pyplot as plt\n",
    "\n",
    "def plot_image(image, title=\"Image\"):\n",
    "    \"\"\"\n",
    "    Utility function to plot an image.\n",
    "    \n",
    "    Args:\n",
    "        image (ndarray): Image to display.\n",
    "        title (str): Title for the image plot.\n",
    "    \"\"\"\n",
    "    plt.imshow(image, cmap='gray')\n",
    "    plt.title(title)\n",
    "    plt.axis('off')\n",
    "    plt.show()\n",
    "\n",
    "def preprocess_sinogram(sinogram):\n",
    "    \"\"\"\n",
    "    Preprocess the sinogram before reconstruction.\n",
    "    \n",
    "    Args:\n",
    "        sinogram (ndarray): Input sinogram data.\n",
    "    \n",
    "    Returns:\n",
    "        ndarray: Processed sinogram.\n",
    "    \"\"\"\n",
    "    # Normalize sinogram\n",
    "    return sinogram / np.max(sinogram)\n"
   ]
  }
 ],
 "metadata": {
  "kernelspec": {
   "display_name": "Python [conda env:base] *",
   "language": "python",
   "name": "conda-base-py"
  },
  "language_info": {
   "codemirror_mode": {
    "name": "ipython",
    "version": 3
   },
   "file_extension": ".py",
   "mimetype": "text/x-python",
   "name": "python",
   "nbconvert_exporter": "python",
   "pygments_lexer": "ipython3",
   "version": "3.12.2"
  }
 },
 "nbformat": 4,
 "nbformat_minor": 5
}
