{
 "cells": [
  {
   "cell_type": "code",
   "execution_count": null,
   "id": "fffe40b8-b12d-4b03-aa03-5a05c610ade1",
   "metadata": {},
   "outputs": [],
   "source": [
    "import numpy as np\n",
    "\n",
    "def art_reconstruction(sinogram, num_iterations=50):\n",
    "    \"\"\"\n",
    "    Perform Algebraic Reconstruction Technique (ART) reconstruction.\n",
    "    \n",
    "    Args:\n",
    "        sinogram (ndarray): 2D array of sinogram data (projection data).\n",
    "        num_iterations (int): Number of iterations for the reconstruction process (default: 50).\n",
    "    \n",
    "    Returns:\n",
    "        ndarray: Reconstructed image.\n",
    "    \"\"\"\n",
    "    # Initialize the reconstructed image as zeros\n",
    "    image = np.zeros((sinogram.shape[1], sinogram.shape[1]))\n",
    "    \n",
    "    # Iterative reconstruction loop\n",
    "    for iteration in range(num_iterations):\n",
    "        for angle_idx in range(sinogram.shape[0]):\n",
    "            projection = sinogram[angle_idx, :]\n",
    "            # Simulate projection and backprojection, update image based on the error between projections and sinogram\n",
    "            image += 0.01 * (projection - np.dot(image, projection))\n",
    "    \n",
    "    return image\n",
    "\n",
    "if __name__ == \"__main__\":\n",
    "    # Example usage with random sinogram\n",
    "    sinogram = np.random.rand(180, 256)  # Example sinogram\n",
    "    reconstructed_image = art_reconstruction(sinogram)\n",
    "    \n",
    "    # Display the reconstructed image\n",
    "    import matplotlib.pyplot as plt\n",
    "    plt.imshow(reconstructed_image, cmap='gray')\n",
    "    plt.title(\"Reconstructed Image (ART)\")\n",
    "    plt.show()\n"
   ]
  }
 ],
 "metadata": {
  "kernelspec": {
   "display_name": "Python [conda env:base] *",
   "language": "python",
   "name": "conda-base-py"
  },
  "language_info": {
   "codemirror_mode": {
    "name": "ipython",
    "version": 3
   },
   "file_extension": ".py",
   "mimetype": "text/x-python",
   "name": "python",
   "nbconvert_exporter": "python",
   "pygments_lexer": "ipython3",
   "version": "3.12.2"
  }
 },
 "nbformat": 4,
 "nbformat_minor": 5
}
