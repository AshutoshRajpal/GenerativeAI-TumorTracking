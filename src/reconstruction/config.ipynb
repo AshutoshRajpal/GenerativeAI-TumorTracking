{
 "cells": [
  {
   "cell_type": "code",
   "execution_count": null,
   "id": "7cd82f9b-b113-4b6c-bca0-c951c1d8f852",
   "metadata": {},
   "outputs": [],
   "source": [
    "# Configuration file for reconstruction parameters\n",
    "\n",
    "# General parameters\n",
    "NUM_ITERATIONS = 50\n",
    "\n",
    "# Filter settings for FBP\n",
    "FILTER_TYPE = \"ram-lak\"\n",
    "INTERPOLATION_METHOD = \"linear\"\n"
   ]
  }
 ],
 "metadata": {
  "kernelspec": {
   "display_name": "Python [conda env:base] *",
   "language": "python",
   "name": "conda-base-py"
  },
  "language_info": {
   "codemirror_mode": {
    "name": "ipython",
    "version": 3
   },
   "file_extension": ".py",
   "mimetype": "text/x-python",
   "name": "python",
   "nbconvert_exporter": "python",
   "pygments_lexer": "ipython3",
   "version": "3.12.2"
  }
 },
 "nbformat": 4,
 "nbformat_minor": 5
}
