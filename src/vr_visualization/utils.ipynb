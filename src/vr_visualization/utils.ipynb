{
 "cells": [
  {
   "cell_type": "code",
   "execution_count": null,
   "id": "cc510cdb-2616-4242-8cea-86fcbeffda9e",
   "metadata": {},
   "outputs": [],
   "source": [
    "def apply_colormap(volume, cmap='hot'):\n",
    "    import matplotlib.pyplot as plt\n",
    "    from matplotlib import cm\n",
    "\n",
    "    colormap = cm.get_cmap(cmap)\n",
    "    return colormap(volume)\n"
   ]
  }
 ],
 "metadata": {
  "kernelspec": {
   "display_name": "Python [conda env:base] *",
   "language": "python",
   "name": "conda-base-py"
  },
  "language_info": {
   "codemirror_mode": {
    "name": "ipython",
    "version": 3
   },
   "file_extension": ".py",
   "mimetype": "text/x-python",
   "name": "python",
   "nbconvert_exporter": "python",
   "pygments_lexer": "ipython3",
   "version": "3.12.2"
  }
 },
 "nbformat": 4,
 "nbformat_minor": 5
}
