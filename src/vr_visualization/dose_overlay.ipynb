{
 "cells": [
  {
   "cell_type": "code",
   "execution_count": null,
   "id": "f55bb7c2-ca44-46c7-996e-21f9215f40b4",
   "metadata": {},
   "outputs": [],
   "source": [
    "import pyvista as pv\n",
    "import nibabel as nib\n",
    "import numpy as np\n",
    "\n",
    "def overlay_dose(nifti_path):\n",
    "    img = nib.load(nifti_path)\n",
    "    dose = np.rot90(img.get_fdata(), k=1, axes=(0, 1))\n",
    "    dose = (dose - dose.min()) / (dose.max() - dose.min())\n",
    "    grid = pv.wrap(dose)\n",
    "    return grid\n"
   ]
  }
 ],
 "metadata": {
  "kernelspec": {
   "display_name": "Python [conda env:base] *",
   "language": "python",
   "name": "conda-base-py"
  },
  "language_info": {
   "codemirror_mode": {
    "name": "ipython",
    "version": 3
   },
   "file_extension": ".py",
   "mimetype": "text/x-python",
   "name": "python",
   "nbconvert_exporter": "python",
   "pygments_lexer": "ipython3",
   "version": "3.12.2"
  }
 },
 "nbformat": 4,
 "nbformat_minor": 5
}
