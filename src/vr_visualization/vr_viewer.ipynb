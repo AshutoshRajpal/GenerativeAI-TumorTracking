{
 "cells": [
  {
   "cell_type": "code",
   "execution_count": null,
   "id": "76713ab5-3487-431d-bdaa-d8c6cea10048",
   "metadata": {},
   "outputs": [],
   "source": [
    "import pyvista as pv\n",
    "from vr_visualization.volume_loader import load_volume, load_segmentation\n",
    "from vr_visualization.dose_overlay import overlay_dose\n",
    "from vr_visualization.config import VOLUME_PATH, SEG_PATH, DOSE_PATH\n",
    "\n",
    "def launch_vr_scene():\n",
    "    plotter = pv.Plotter()\n",
    "    \n",
    "    # Load CT volume\n",
    "    volume = load_volume(VOLUME_PATH)\n",
    "    plotter.add_volume(volume, opacity='sigmoid', cmap='gray')\n",
    "    \n",
    "    # Load segmentation (tumor)\n",
    "    tumor_mesh = load_segmentation(SEG_PATH)\n",
    "    plotter.add_mesh(tumor_mesh, color='red', opacity=0.5, name='tumor')\n",
    "\n",
    "    # Load and overlay dose distribution\n",
    "    dose = overlay_dose(DOSE_PATH)\n",
    "    plotter.add_volume(dose, opacity=0.2, cmap='hot', name='dose')\n",
    "\n",
    "    plotter.enable_eye_dome_lighting()\n",
    "    plotter.add_axes()\n",
    "    plotter.show(title=\"Tumor & Dose VR Viewer\", auto_close=False)\n",
    "\n",
    "    # Optional: Enable OpenVR headset support if available\n",
    "    try:\n",
    "        plotter.openvr.render()\n",
    "    except Exception as e:\n",
    "        print(\"OpenVR rendering failed or not supported:\", str(e))\n"
   ]
  }
 ],
 "metadata": {
  "kernelspec": {
   "display_name": "Python [conda env:base] *",
   "language": "python",
   "name": "conda-base-py"
  },
  "language_info": {
   "codemirror_mode": {
    "name": "ipython",
    "version": 3
   },
   "file_extension": ".py",
   "mimetype": "text/x-python",
   "name": "python",
   "nbconvert_exporter": "python",
   "pygments_lexer": "ipython3",
   "version": "3.12.2"
  }
 },
 "nbformat": 4,
 "nbformat_minor": 5
}
