{
 "cells": [
  {
   "cell_type": "code",
   "execution_count": null,
   "id": "1a073e3e-6e19-4331-9f5d-de4dffc3117e",
   "metadata": {},
   "outputs": [],
   "source": [
    "import pyvista as pv\n",
    "import nibabel as nib\n",
    "import numpy as np\n",
    "\n",
    "def load_volume(nifti_path):\n",
    "    img = nib.load(nifti_path)\n",
    "    data = np.rot90(img.get_fdata(), k=1, axes=(0, 1))\n",
    "    grid = pv.wrap(data)\n",
    "    return grid\n",
    "\n",
    "def load_segmentation(seg_path):\n",
    "    img = nib.load(seg_path)\n",
    "    seg = np.rot90(img.get_fdata(), k=1, axes=(0, 1))\n",
    "    mesh = pv.wrap(seg)\n",
    "    return mesh.threshold(0.5)  # binary mask\n"
   ]
  }
 ],
 "metadata": {
  "kernelspec": {
   "display_name": "Python [conda env:base] *",
   "language": "python",
   "name": "conda-base-py"
  },
  "language_info": {
   "codemirror_mode": {
    "name": "ipython",
    "version": 3
   },
   "file_extension": ".py",
   "mimetype": "text/x-python",
   "name": "python",
   "nbconvert_exporter": "python",
   "pygments_lexer": "ipython3",
   "version": "3.12.2"
  }
 },
 "nbformat": 4,
 "nbformat_minor": 5
}
