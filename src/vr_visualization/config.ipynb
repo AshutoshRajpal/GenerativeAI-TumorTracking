{
 "cells": [
  {
   "cell_type": "code",
   "execution_count": null,
   "id": "58d0b384-aba9-42da-aae0-04ac1ef4515a",
   "metadata": {},
   "outputs": [],
   "source": [
    "VOLUME_PATH = \"data/ct_volume.nii.gz\"\n",
    "SEG_PATH = \"data/tumor_mask.nii.gz\"\n",
    "DOSE_PATH = \"data/dose_map.nii.gz\"\n",
    "\n",
    "VR_MODE = True  # Set to False for desktop-only visualization\n"
   ]
  }
 ],
 "metadata": {
  "kernelspec": {
   "display_name": "Python [conda env:base] *",
   "language": "python",
   "name": "conda-base-py"
  },
  "language_info": {
   "codemirror_mode": {
    "name": "ipython",
    "version": 3
   },
   "file_extension": ".py",
   "mimetype": "text/x-python",
   "name": "python",
   "nbconvert_exporter": "python",
   "pygments_lexer": "ipython3",
   "version": "3.12.2"
  }
 },
 "nbformat": 4,
 "nbformat_minor": 5
}
